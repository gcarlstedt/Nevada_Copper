{
 "cells": [
  {
   "cell_type": "code",
   "execution_count": 1,
   "metadata": {},
   "outputs": [],
   "source": [
    "#11/07/2019\n",
    "\n",
    "#Test: Attempt at Text Mining --> PO Tracker"
   ]
  },
  {
   "cell_type": "code",
   "execution_count": 2,
   "metadata": {},
   "outputs": [],
   "source": [
    "import numpy as np\n",
    "import pandas as pd"
   ]
  },
  {
   "cell_type": "code",
   "execution_count": 3,
   "metadata": {
    "scrolled": false
   },
   "outputs": [],
   "source": [
    "#Read in excel file, sheet 1 with appropiate columns\n",
    "df = pd.read_excel(r\"P:\\PO Tracker Todd..xlsx\",sheet_name=1,usecols=\"A:B,D:E,G:K,N:O\")\n",
    "#Get rows below '~' row\n",
    "index = df.index[df[' Value'] == '~'] #Returns tuple with index of first instance where'Value' column == '~'\n",
    "df = df.iloc[index[0]+1:]\n",
    "#Get rid of NaN filled rows\n",
    "df.dropna(thresh=6,inplace=True)"
   ]
  },
  {
   "cell_type": "code",
   "execution_count": 4,
   "metadata": {
    "scrolled": true
   },
   "outputs": [],
   "source": [
    "#Clear any rows with canceled PO's\n",
    "search = ['Canceled','Closed','No Bid','Denied','Cannot']\n",
    "data = df[~df['Notes'].str.contains('|'.join(search),case=False)].copy()"
   ]
  },
  {
   "cell_type": "code",
   "execution_count": 5,
   "metadata": {},
   "outputs": [
    {
     "data": {
      "text/plain": [
       "Notes                                  object\n",
       "Goods/Service / Change Order/Rental    object\n",
       "Suppliers                              object\n",
       "Supplier #                             object\n",
       "Owner                                  object\n",
       "Owners Representative                  object\n",
       "Start Date                             object\n",
       "End Date                               object\n",
       " Value                                 object\n",
       "REQ                                    object\n",
       "PO                                     object\n",
       "dtype: object"
      ]
     },
     "execution_count": 5,
     "metadata": {},
     "output_type": "execute_result"
    }
   ],
   "source": [
    "#Check column data types\n",
    "data.dtypes"
   ]
  },
  {
   "cell_type": "code",
   "execution_count": 6,
   "metadata": {
    "scrolled": false
   },
   "outputs": [
    {
     "data": {
      "text/plain": [
       "Notes                                  False\n",
       "Goods/Service / Change Order/Rental    False\n",
       "Suppliers                              False\n",
       "Supplier #                              True\n",
       "Owner                                   True\n",
       "Owners Representative                   True\n",
       "Start Date                             False\n",
       "End Date                                True\n",
       " Value                                  True\n",
       "REQ                                    False\n",
       "PO                                     False\n",
       "dtype: bool"
      ]
     },
     "execution_count": 6,
     "metadata": {},
     "output_type": "execute_result"
    }
   ],
   "source": [
    "#Check for Nan values\n",
    "data.isnull().any()"
   ]
  },
  {
   "cell_type": "code",
   "execution_count": 7,
   "metadata": {},
   "outputs": [
    {
     "data": {
      "text/html": [
       "<div>\n",
       "<style scoped>\n",
       "    .dataframe tbody tr th:only-of-type {\n",
       "        vertical-align: middle;\n",
       "    }\n",
       "\n",
       "    .dataframe tbody tr th {\n",
       "        vertical-align: top;\n",
       "    }\n",
       "\n",
       "    .dataframe thead th {\n",
       "        text-align: right;\n",
       "    }\n",
       "</style>\n",
       "<table border=\"1\" class=\"dataframe\">\n",
       "  <thead>\n",
       "    <tr style=\"text-align: right;\">\n",
       "      <th></th>\n",
       "      <th>Notes</th>\n",
       "      <th>Goods/Service / Change Order/Rental</th>\n",
       "      <th>Suppliers</th>\n",
       "      <th>Supplier #</th>\n",
       "      <th>Owner</th>\n",
       "      <th>Owners Representative</th>\n",
       "      <th>Start Date</th>\n",
       "      <th>End Date</th>\n",
       "      <th>Value</th>\n",
       "      <th>REQ</th>\n",
       "      <th>PO</th>\n",
       "    </tr>\n",
       "  </thead>\n",
       "  <tbody>\n",
       "    <tr>\n",
       "      <td>696</td>\n",
       "      <td>Done 8.1.19</td>\n",
       "      <td>Goods</td>\n",
       "      <td>Control Technologies</td>\n",
       "      <td>101050</td>\n",
       "      <td></td>\n",
       "      <td>Marc Gould</td>\n",
       "      <td>2019-07-31 00:00:00</td>\n",
       "      <td>2019-10-15 00:00:00</td>\n",
       "      <td>46571.5</td>\n",
       "      <td>10003131</td>\n",
       "      <td>4500002384</td>\n",
       "    </tr>\n",
       "    <tr>\n",
       "      <td>770</td>\n",
       "      <td>Done 7.11.19</td>\n",
       "      <td>Goods</td>\n",
       "      <td>Carson Valley Golf</td>\n",
       "      <td>101118</td>\n",
       "      <td>NaN</td>\n",
       "      <td>NaN</td>\n",
       "      <td>2019-07-11 00:00:00</td>\n",
       "      <td>2019-07-11 00:00:00</td>\n",
       "      <td>2166.85</td>\n",
       "      <td>10003053</td>\n",
       "      <td>4500002319</td>\n",
       "    </tr>\n",
       "    <tr>\n",
       "      <td>1479</td>\n",
       "      <td>Done 2.6.19</td>\n",
       "      <td>Goods</td>\n",
       "      <td>Grainger</td>\n",
       "      <td>100106</td>\n",
       "      <td>Brent Stierwalt</td>\n",
       "      <td>NaN</td>\n",
       "      <td>2019-02-06 00:00:00</td>\n",
       "      <td>2019-02-07 00:00:00</td>\n",
       "      <td>373.58</td>\n",
       "      <td>10002326</td>\n",
       "      <td>4500001714</td>\n",
       "    </tr>\n",
       "  </tbody>\n",
       "</table>\n",
       "</div>"
      ],
      "text/plain": [
       "             Notes Goods/Service / Change Order/Rental              Suppliers  \\\n",
       "696    Done 8.1.19                               Goods  Control Technologies    \n",
       "770   Done 7.11.19                               Goods     Carson Valley Golf   \n",
       "1479   Done 2.6.19                               Goods               Grainger   \n",
       "\n",
       "     Supplier #            Owner Owners Representative           Start Date  \\\n",
       "696      101050                             Marc Gould  2019-07-31 00:00:00   \n",
       "770      101118              NaN                   NaN  2019-07-11 00:00:00   \n",
       "1479     100106  Brent Stierwalt                   NaN  2019-02-06 00:00:00   \n",
       "\n",
       "                 End Date    Value       REQ          PO  \n",
       "696   2019-10-15 00:00:00  46571.5  10003131  4500002384  \n",
       "770   2019-07-11 00:00:00  2166.85  10003053  4500002319  \n",
       "1479  2019-02-07 00:00:00   373.58  10002326  4500001714  "
      ]
     },
     "execution_count": 7,
     "metadata": {},
     "output_type": "execute_result"
    }
   ],
   "source": [
    "#Want to see NaN rows in Owner and Owners Rep columns ---> Used Later\n",
    "data[(data['Owner'].isnull()) | (data['Owners Representative'].isnull()) | (data['Owner'].str.isspace() == True)]"
   ]
  },
  {
   "cell_type": "code",
   "execution_count": 8,
   "metadata": {},
   "outputs": [],
   "source": [
    "#Luckily only a few enteries are missing Owner and Owners Represenative values\n",
    "\n",
    "#Replace value at index 640 with 'Nevada Copper'\n",
    "#Same with 1349\n",
    "yeet = data.index[(data['Owner'].isnull()) | (data['Owners Representative'].isnull()) | (data['Owner'].str.isspace() == True)]\n",
    "\n",
    "data.loc[yeet.tolist()[0],'Owner'] = 'Marc Gould'\n",
    "data.loc[yeet.tolist()[1],'Owner'] = 'Nevada Copper'\n",
    "data.loc[yeet.tolist()[1],'Owners Representative'] = 'Nevada Copper'\n",
    "data.loc[yeet.tolist()[2],'Owners Representative'] = 'Brent Stierwalt'"
   ]
  },
  {
   "cell_type": "code",
   "execution_count": 9,
   "metadata": {},
   "outputs": [
    {
     "data": {
      "text/plain": [
       "Notes                                  False\n",
       "Goods/Service / Change Order/Rental    False\n",
       "Suppliers                              False\n",
       "Supplier #                              True\n",
       "Owner                                  False\n",
       "Owners Representative                  False\n",
       "Start Date                             False\n",
       "End Date                                True\n",
       " Value                                  True\n",
       "REQ                                    False\n",
       "PO                                     False\n",
       "dtype: bool"
      ]
     },
     "execution_count": 9,
     "metadata": {},
     "output_type": "execute_result"
    }
   ],
   "source": [
    "#Check to see value was changed and saved\n",
    "data.isnull().any()"
   ]
  },
  {
   "cell_type": "code",
   "execution_count": 10,
   "metadata": {
    "scrolled": false
   },
   "outputs": [],
   "source": [
    "#Value column has blanks and text(?) --> Covert to numeric, else change to NaN value\n",
    "#The default return dtype is float64 or int64 depending on the data supplied \n",
    "#Use the downcast parameter to obtain other dtypes\n",
    "data[' Value'] = data[' Value'].apply(pd.to_numeric, errors='coerce')\n",
    "#Check again for null values\n",
    "data[' Value'].isnull().any() # There are NaN values\n",
    "#Find instances of null values\n",
    "data[data[' Value'].isnull()]\n",
    "#Replace list\n",
    "replace = [21727.85,794.51,534.33,8800,0,0,82914.40,641032.57,453.05,18102.50,182519.66,35000,122453.03,119.43]\n",
    "np_replace = np.array(replace, dtype='float64')\n",
    "#Replace Nan values with list of retrived PO values\n",
    "data.loc[data[' Value'].isnull(),' Value'] = np_replace"
   ]
  },
  {
   "cell_type": "code",
   "execution_count": 11,
   "metadata": {},
   "outputs": [
    {
     "data": {
      "text/html": [
       "<div>\n",
       "<style scoped>\n",
       "    .dataframe tbody tr th:only-of-type {\n",
       "        vertical-align: middle;\n",
       "    }\n",
       "\n",
       "    .dataframe tbody tr th {\n",
       "        vertical-align: top;\n",
       "    }\n",
       "\n",
       "    .dataframe thead th {\n",
       "        text-align: right;\n",
       "    }\n",
       "</style>\n",
       "<table border=\"1\" class=\"dataframe\">\n",
       "  <thead>\n",
       "    <tr style=\"text-align: right;\">\n",
       "      <th></th>\n",
       "      <th>Notes</th>\n",
       "      <th>Goods/Service / Change Order/Rental</th>\n",
       "      <th>Suppliers</th>\n",
       "      <th>Supplier #</th>\n",
       "      <th>Owner</th>\n",
       "      <th>Owners Representative</th>\n",
       "      <th>Start Date</th>\n",
       "      <th>End Date</th>\n",
       "      <th>Value</th>\n",
       "      <th>REQ</th>\n",
       "      <th>PO</th>\n",
       "    </tr>\n",
       "  </thead>\n",
       "  <tbody>\n",
       "  </tbody>\n",
       "</table>\n",
       "</div>"
      ],
      "text/plain": [
       "Empty DataFrame\n",
       "Columns: [Notes, Goods/Service / Change Order/Rental, Suppliers, Supplier #, Owner, Owners Representative, Start Date, End Date,  Value, REQ, PO]\n",
       "Index: []"
      ]
     },
     "execution_count": 11,
     "metadata": {},
     "output_type": "execute_result"
    }
   ],
   "source": [
    "data[data[' Value'].isnull()]"
   ]
  },
  {
   "cell_type": "code",
   "execution_count": 12,
   "metadata": {
    "scrolled": false
   },
   "outputs": [],
   "source": [
    "#Attempt to find any values in 'Start Date' column that are not dates\n",
    "#Assuming datetime length is 18 characters long\n",
    "mask = data['Start Date'].apply(lambda x: len(str(x))) < 18\n",
    "#Get values using boolean mask in 'Start Date' column\n",
    "#Basically Boolean indexing for values in 'Start Date'\n",
    "index = data.loc[mask, 'Start Date']\n",
    "#Turn index to a list and replace those values with ffill values \n",
    "data['Start Date'].replace(to_replace=index.tolist(),method='ffill',inplace=True)\n",
    "data['Start Date'] =  pd.to_datetime(data['Start Date'], infer_datetime_format=True)\n",
    "\n",
    "#Dates that are mistyped to 1900 instead of 2019\n",
    "time = pd.Series(['2019/01/02']*4)\n",
    "timereplace = pd.to_datetime(time,infer_datetime_format=True)\n",
    "\n",
    "#Create another mask to replace these values (4 in total)\n",
    "mask2 = data['Start Date'] <= '01/01/2018'\n",
    "index2 = data.loc[mask2, 'Start Date']\n",
    "\n",
    "#Turn index2 to a list like before and replace those values with timereplace(?) \n",
    "data['Start Date'].replace(to_replace=index2.tolist(),value=timereplace,inplace=True)\n",
    "\n",
    "#Sort values by 'Start Date' column\n",
    "data.sort_values(by=['Start Date'],inplace=True)"
   ]
  },
  {
   "cell_type": "code",
   "execution_count": 13,
   "metadata": {
    "scrolled": false
   },
   "outputs": [],
   "source": [
    "#TEST\n",
    "\n",
    "#Get PO's from this year only\n",
    "cleaned = data[data['Start Date'] >= '01/01/2019'].copy()\n",
    "\n",
    "#Set index\n",
    "cleaned.set_index(cleaned['Start Date'],inplace=True,verify_integrity=False)"
   ]
  },
  {
   "cell_type": "code",
   "execution_count": 14,
   "metadata": {},
   "outputs": [],
   "source": [
    "#Test Continued\n",
    "\n",
    "import difflib\n",
    "\n",
    "test = cleaned['Owner'].unique()\n",
    "\n",
    "#Names used for replacement \n",
    "names = ['Lara Sims','Mark Hanley','Samantha Evans','Thomas Bagan']\n",
    "\n",
    "#Fuzzy MatchUp\n",
    "closetmatch = [difflib.get_close_matches(options, test,n=len(test),cutoff=.75) for options in names]\n",
    "\n",
    "dictlist = [dict(zip(closetmatch[i],[names[i]] * len(closetmatch[i]))) for i,_ in enumerate(closetmatch)]\n",
    "\n",
    "finaldict = {}\n",
    "for dict1 in dictlist:\n",
    "    finaldict.update(dict1)\n",
    "\n",
    "trail = cleaned.copy()\n",
    "\n",
    "trail['Owner'].replace(to_replace=finaldict,inplace=True)\n",
    "\n",
    "\n",
    "#Different ways to look at the data\n",
    "trailgroup = trail.resample('M').agg({\"PO\":'count',\" Value\":np.sum})\n",
    "\n",
    "trail_alternative = pd.pivot_table(trail,index='Owner',\n",
    "                                    aggfunc={\"PO\":'count',\" Value\":np.sum},\n",
    "                                    values=['PO',' Value'],\n",
    "                                    margins=True)\n",
    "\n",
    "#Grouper resamples by month for every 'Owner' for that month\n",
    "#Aggregate is straightforward\n",
    "group = trail.groupby([pd.Grouper(freq='M'),'Owner']).agg({\"PO\":'count',\" Value\":np.sum})\n",
    "\n",
    "with pd.ExcelWriter('PO Tracker.xlsx') as writer:\n",
    "    trailgroup.to_excel(writer, sheet_name = 'Total')\n",
    "    trail_alternative.to_excel(writer, sheet_name= 'Total by Person for the Year')\n",
    "    group.to_excel(writer, sheet_name = 'Total by Person by Month')"
   ]
  },
  {
   "cell_type": "code",
   "execution_count": 16,
   "metadata": {},
   "outputs": [
    {
     "data": {
      "image/png": "[encoded data removed]",
      "text/plain": [
       "<Figure size 864x288 with 1 Axes>"
      ]
     },
     "metadata": {},
     "output_type": "display_data"
    }
   ],
   "source": [
    "#Quick plot\n",
    "\n",
    "%matplotlib inline\n",
    "import matplotlib.pyplot as plt\n",
    "plt.style.use('ggplot')\n",
    "\n",
    "dates = pd.Series(['Jan','Feb','Mar','Apr','May','Jun','Jul','Aug','Sep','Oct','Nov','Dec'],dtype=str)\n",
    "\n",
    "from matplotlib.ticker import LinearLocator, FixedFormatter\n",
    "y_locator = LinearLocator(6)\n",
    "y_formatter = FixedFormatter([\"$0 M\",\"$10 M\",\"$20 M\",\"$30 M\",\"$40 M\",\"$50 M\"])\n",
    "\n",
    "fig = plt.figure(figsize=(12,4))\n",
    "ax = plt.axes()\n",
    "ax.yaxis.set_major_formatter(y_formatter)\n",
    "ax.yaxis.set_major_locator(y_locator)\n",
    "ax.plot(dates,trailgroup[' Value'])\n",
    "ax.set(ylabel='Value',title=\"Value of PO's by Month (2019)\");\n"
   ]
  }
 ],
 "metadata": {
  "kernelspec": {
   "display_name": "Python 3",
   "language": "python",
   "name": "python3"
  },
  "language_info": {
   "codemirror_mode": {
    "name": "ipython",
    "version": 3
   },
   "file_extension": ".py",
   "mimetype": "text/x-python",
   "name": "python",
   "nbconvert_exporter": "python",
   "pygments_lexer": "ipython3",
   "version": "3.7.3"
  }
 },
 "nbformat": 4,
 "nbformat_minor": 2
}
