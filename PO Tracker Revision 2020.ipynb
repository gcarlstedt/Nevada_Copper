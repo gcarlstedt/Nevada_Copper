{
 "cells": [
  {
   "cell_type": "code",
   "execution_count": 1,
   "metadata": {},
   "outputs": [],
   "source": [
    "#3/9/2020\n",
    "#Revision to PO Tracker "
   ]
  },
  {
   "cell_type": "code",
   "execution_count": 2,
   "metadata": {},
   "outputs": [],
   "source": [
    "import numpy as np\n",
    "import pandas as pd\n",
    "import difflib\n",
    "import xlsxwriter\n",
    "import openpyxl\n",
    "from openpyxl import load_workbook\n",
    "from openpyxl.chart import LineChart,Reference"
   ]
  },
  {
   "cell_type": "code",
   "execution_count": 3,
   "metadata": {},
   "outputs": [],
   "source": [
    "#Read in excel file, sheet 1 with appropiate columns\n",
    "df = pd.read_excel(r\"P:\\PO Tracker Todd..xlsx\",sheet_name=1,usecols=\"A:B,D:E,G:I,K,N:O\")"
   ]
  },
  {
   "cell_type": "code",
   "execution_count": 4,
   "metadata": {},
   "outputs": [],
   "source": [
    "#Get rows below '~' row\n",
    "index = df.index[df[' Value'] == '~'] #Returns tuple with index of first instance where'Value' column == '~'\n",
    "df = df.iloc[index[0]+1:]\n",
    "#Get rid of NaN filled rows --> At bottom of dataframe\n",
    "df.dropna(thresh=6,inplace=True)"
   ]
  },
  {
   "cell_type": "code",
   "execution_count": 5,
   "metadata": {},
   "outputs": [],
   "source": [
    "#Clear any rows with canceled PO's\n",
    "search = ['Canceled','Closed','No Bid','Denied','Cannot','Test 2','Test','Pay Off','sigs','ppwk']\n",
    "data = df[~df['Notes'].str.contains('|'.join(search),case=False)].copy()"
   ]
  },
  {
   "cell_type": "code",
   "execution_count": 6,
   "metadata": {},
   "outputs": [
    {
     "data": {
      "text/plain": [
       "Notes                                  object\n",
       "Goods/Service / Change Order/Rental    object\n",
       "Suppliers                              object\n",
       "Supplier #                             object\n",
       "Owner                                  object\n",
       "Owners Representative                  object\n",
       "Start Date                             object\n",
       " Value                                 object\n",
       "REQ                                    object\n",
       "PO                                     object\n",
       "dtype: object"
      ]
     },
     "execution_count": 6,
     "metadata": {},
     "output_type": "execute_result"
    }
   ],
   "source": [
    "#Check column data types\n",
    "data.dtypes"
   ]
  },
  {
   "cell_type": "code",
   "execution_count": 7,
   "metadata": {},
   "outputs": [
    {
     "data": {
      "text/plain": [
       "Notes                                   0\n",
       "Goods/Service / Change Order/Rental     0\n",
       "Suppliers                               0\n",
       "Supplier #                              2\n",
       "Owner                                   1\n",
       "Owners Representative                   2\n",
       "Start Date                              1\n",
       " Value                                 14\n",
       "REQ                                     3\n",
       "PO                                      3\n",
       "dtype: int64"
      ]
     },
     "execution_count": 7,
     "metadata": {},
     "output_type": "execute_result"
    }
   ],
   "source": [
    "#Check for Nan values\n",
    "data.isnull().sum()"
   ]
  },
  {
   "cell_type": "code",
   "execution_count": 8,
   "metadata": {},
   "outputs": [],
   "source": [
    "#Attempt to find any values in 'Start Date' column that are not dates\n",
    "#Assuming datetime length is 18 characters long --> Current dtype is object \n",
    "mask = data['Start Date'].apply(lambda x: len(str(x))) < 18 \n",
    "\n",
    "#Get values using boolean mask in 'Start Date' column\n",
    "#Basically Boolean indexing for values in 'Start Date''\n",
    "index = data.loc[mask, 'Start Date']\n",
    "\n",
    "#Turn index to a list and replace those values with ffill values \n",
    "data['Start Date'].replace(to_replace=index.tolist(),method='ffill',inplace=True)\n",
    "\n",
    "#Convert to date time\n",
    "data['Start Date'] =  pd.to_datetime(data['Start Date'], infer_datetime_format=True)"
   ]
  },
  {
   "cell_type": "code",
   "execution_count": 9,
   "metadata": {},
   "outputs": [],
   "source": [
    "#Dates that are mistyped to 1900 instead of 2019\n",
    "time = pd.Series(['2019/01/02']*4)\n",
    "timereplace = pd.to_datetime(time,infer_datetime_format=True)\n",
    "\n",
    "#Create another mask to replace these values (4 in total)\n",
    "mask2 = data['Start Date'] <= '01/01/2018'\n",
    "index2 = data.loc[mask2, 'Start Date']\n",
    "\n",
    "#Turn index2 to a list like before and replace those values with timereplace(?) \n",
    "data['Start Date'].replace(to_replace=index2.tolist(),value=timereplace,inplace=True)"
   ]
  },
  {
   "cell_type": "code",
   "execution_count": 10,
   "metadata": {},
   "outputs": [
    {
     "data": {
      "text/html": [
       "<div>\n",
       "<style scoped>\n",
       "    .dataframe tbody tr th:only-of-type {\n",
       "        vertical-align: middle;\n",
       "    }\n",
       "\n",
       "    .dataframe tbody tr th {\n",
       "        vertical-align: top;\n",
       "    }\n",
       "\n",
       "    .dataframe thead th {\n",
       "        text-align: right;\n",
       "    }\n",
       "</style>\n",
       "<table border=\"1\" class=\"dataframe\">\n",
       "  <thead>\n",
       "    <tr style=\"text-align: right;\">\n",
       "      <th></th>\n",
       "      <th>Notes</th>\n",
       "      <th>Goods/Service / Change Order/Rental</th>\n",
       "      <th>Suppliers</th>\n",
       "      <th>Supplier #</th>\n",
       "      <th>Owner</th>\n",
       "      <th>Owners Representative</th>\n",
       "      <th>Start Date</th>\n",
       "      <th>Value</th>\n",
       "      <th>REQ</th>\n",
       "      <th>PO</th>\n",
       "    </tr>\n",
       "  </thead>\n",
       "  <tbody>\n",
       "    <tr>\n",
       "      <th>1651</th>\n",
       "      <td>Done 8.1.19</td>\n",
       "      <td>Goods</td>\n",
       "      <td>Control Technologies</td>\n",
       "      <td>101050</td>\n",
       "      <td></td>\n",
       "      <td>Marc Gould</td>\n",
       "      <td>2019-07-31</td>\n",
       "      <td>46571.5</td>\n",
       "      <td>10003131</td>\n",
       "      <td>4500002384</td>\n",
       "    </tr>\n",
       "    <tr>\n",
       "      <th>1725</th>\n",
       "      <td>Done 7.11.19</td>\n",
       "      <td>Goods</td>\n",
       "      <td>Carson Valley Golf</td>\n",
       "      <td>101118</td>\n",
       "      <td>NaN</td>\n",
       "      <td>NaN</td>\n",
       "      <td>2019-07-11</td>\n",
       "      <td>2166.85</td>\n",
       "      <td>10003053</td>\n",
       "      <td>4500002319</td>\n",
       "    </tr>\n",
       "    <tr>\n",
       "      <th>2434</th>\n",
       "      <td>Done 2.7.19</td>\n",
       "      <td>Goods</td>\n",
       "      <td>Grainger</td>\n",
       "      <td>100106</td>\n",
       "      <td>Brent Stierwalt</td>\n",
       "      <td>NaN</td>\n",
       "      <td>2019-02-06</td>\n",
       "      <td>373.58</td>\n",
       "      <td>10002326</td>\n",
       "      <td>4500001714</td>\n",
       "    </tr>\n",
       "  </tbody>\n",
       "</table>\n",
       "</div>"
      ],
      "text/plain": [
       "             Notes Goods/Service / Change Order/Rental              Suppliers  \\\n",
       "1651   Done 8.1.19                               Goods  Control Technologies    \n",
       "1725  Done 7.11.19                               Goods     Carson Valley Golf   \n",
       "2434   Done 2.7.19                               Goods               Grainger   \n",
       "\n",
       "     Supplier #            Owner Owners Representative Start Date    Value  \\\n",
       "1651     101050                             Marc Gould 2019-07-31  46571.5   \n",
       "1725     101118              NaN                   NaN 2019-07-11  2166.85   \n",
       "2434     100106  Brent Stierwalt                   NaN 2019-02-06   373.58   \n",
       "\n",
       "           REQ          PO  \n",
       "1651  10003131  4500002384  \n",
       "1725  10003053  4500002319  \n",
       "2434  10002326  4500001714  "
      ]
     },
     "execution_count": 10,
     "metadata": {},
     "output_type": "execute_result"
    }
   ],
   "source": [
    "#Want to see NaN rows in Owner and Owners Rep columns ---> Used Later\n",
    "data[(data['Owner'].isnull()) | (data['Owners Representative'].isnull()) | (data['Owner'].str.isspace() == True)]"
   ]
  },
  {
   "cell_type": "code",
   "execution_count": 11,
   "metadata": {},
   "outputs": [],
   "source": [
    "#Luckily only a few enteries are missing Owner and Owners Represenative values\n",
    "\n",
    "grid = data.index[(data['Owner'].isnull()) | (data['Owners Representative'].isnull()) | (data['Owner'].str.isspace() == True)]\n",
    "\n",
    "data.loc[grid.tolist()[1],'Owner'] = 'Nevada Copper'\n",
    "data.loc[grid.tolist()[1],'Owners Representative'] = 'Nevada Copper'\n",
    "data.loc[grid.tolist()[2],'Owners Representative'] = 'Brent Stierwalt'\n",
    "data.loc[grid.tolist()[0],'Owner'] = 'Marc Gould'"
   ]
  },
  {
   "cell_type": "code",
   "execution_count": 12,
   "metadata": {},
   "outputs": [],
   "source": [
    "#Value column has blanks and text(?) --> Covert to numeric, else change to NaN value\n",
    "#The default return dtype is float64 or int64 depending on the data supplied \n",
    "#Use the downcast parameter to obtain other dtypes\n",
    "data[' Value'] = data[' Value'].apply(pd.to_numeric, errors='coerce')"
   ]
  },
  {
   "cell_type": "code",
   "execution_count": 13,
   "metadata": {},
   "outputs": [
    {
     "data": {
      "text/plain": [
       "16"
      ]
     },
     "execution_count": 13,
     "metadata": {},
     "output_type": "execute_result"
    }
   ],
   "source": [
    "#Check again for null values\n",
    "data[' Value'].isnull().sum() # There are NaN values --> Currently 16"
   ]
  },
  {
   "cell_type": "code",
   "execution_count": 14,
   "metadata": {},
   "outputs": [],
   "source": [
    "#Replace list\n",
    "replace = [13963,119.43,122453.03,35000,182519.66,18102.50,453.05,9900,641032.57,82914.40,0,0,56700,534.33,794.51,21727.85]\n",
    "\n",
    "def Reverse(lst):\n",
    "    \"\"\"Reverse order of list\"\"\"\n",
    "    lst.reverse()\n",
    "    return lst\n",
    "\n",
    "np_replace = np.array(Reverse(replace), dtype='float64')"
   ]
  },
  {
   "cell_type": "code",
   "execution_count": 15,
   "metadata": {},
   "outputs": [],
   "source": [
    "#Replace Nan values with list of retrived PO values\n",
    "data.loc[data[' Value'].isnull(),' Value'] = np_replace"
   ]
  },
  {
   "cell_type": "code",
   "execution_count": 16,
   "metadata": {},
   "outputs": [],
   "source": [
    "#Finally remove any possible negative values\n",
    "\n",
    "data = data[~(data[' Value'] <= 0)]"
   ]
  },
  {
   "cell_type": "code",
   "execution_count": 17,
   "metadata": {},
   "outputs": [],
   "source": [
    "#Look at Owners column --> Fuzzy Matchup\n",
    "\n",
    "unique = data['Owner'].unique()"
   ]
  },
  {
   "cell_type": "code",
   "execution_count": 18,
   "metadata": {},
   "outputs": [
    {
     "data": {
      "text/plain": [
       "array(['David Madsen', 'Larry Brown', 'Lara sims', 'Terry Weiss',\n",
       "       \"Beverly O'Malley\", 'August Greth', 'Lumin Ma', 'Tom Sullivan',\n",
       "       'Ben Morin', 'Michael Bozarth', 'Marc Gould', 'Eugene Bock',\n",
       "       'Mark Hanley', 'Mariah Joyner', 'Tim Dake', 'Reid Yano',\n",
       "       'Scott Lawson', 'Lisa Heinz', 'Nick Atiemo', 'Randy Berry',\n",
       "       'Ian Larkins', 'Tim Dyhr', 'Jennelle Hanson', 'Pamela Moyo',\n",
       "       'David Swisher', 'Dave Sabourin', 'randy Berry',\n",
       "       'Shane Eisenbarth', 'John Evans', 'Aubree Barnum',\n",
       "       'Michael Boomgaarden', 'Greg French', 'Samantha Evans',\n",
       "       'Clint Schofield', 'Randy Berry ', 'Mark Childs',\n",
       "       'Korin Carpenter', 'Lisa Heing', 'Lara Sims', 'Nylah Kachelmeyer',\n",
       "       'Mark Wall', 'William Bond', 'Martin Lopez', 'Jodi Lemos',\n",
       "       'Jerod Eastman', 'Jenna Joyner', 'Chris Bistolas', 'Thomas Bagan',\n",
       "       'Nevada Copper', 'Scott Frerichs', 'mark hanley', 'Mark hanley',\n",
       "       'Brent Stierwalt', 'Kevin Crandall', 'Jason Blais', 'mark Hanley',\n",
       "       'Samanatha Evans', 'Andrew Rowell', 'Mark Hanley ???', 'Tom Bagan',\n",
       "       'Andrew Baumen', 'Dru Lemos', 'Neil Schunke', 'Jenelle Miniely'],\n",
       "      dtype=object)"
      ]
     },
     "execution_count": 18,
     "metadata": {},
     "output_type": "execute_result"
    }
   ],
   "source": [
    "unique"
   ]
  },
  {
   "cell_type": "code",
   "execution_count": 19,
   "metadata": {},
   "outputs": [],
   "source": [
    "#Names used for replacement \n",
    "names = ['Randy Berry','Samantha Evans','Mark Hanley','Thomas Bagan','Lisa Heinz','Lara Sims']\n",
    "\n",
    "#Fuzzy MatchUp\n",
    "closetmatch = [difflib.get_close_matches(options, unique,n=len(unique),cutoff=.75) for options in names]"
   ]
  },
  {
   "cell_type": "code",
   "execution_count": 20,
   "metadata": {},
   "outputs": [
    {
     "data": {
      "text/plain": [
       "[['Randy Berry', 'Randy Berry ', 'randy Berry'],\n",
       " ['Samantha Evans', 'Samanatha Evans'],\n",
       " ['Mark Hanley',\n",
       "  'mark Hanley',\n",
       "  'Mark hanley',\n",
       "  'Mark Hanley ???',\n",
       "  'mark hanley'],\n",
       " ['Thomas Bagan', 'Tom Bagan'],\n",
       " ['Lisa Heinz', 'Lisa Heing'],\n",
       " ['Lara Sims', 'Lara sims']]"
      ]
     },
     "execution_count": 20,
     "metadata": {},
     "output_type": "execute_result"
    }
   ],
   "source": [
    "closetmatch"
   ]
  },
  {
   "cell_type": "code",
   "execution_count": 21,
   "metadata": {},
   "outputs": [],
   "source": [
    "#Create a list of dictionaries mapping to correct name for that particular person\n",
    "dictlist = [dict(zip(closetmatch[i],[names[i]] * len(closetmatch[i]))) for i,_ in enumerate(closetmatch)]"
   ]
  },
  {
   "cell_type": "code",
   "execution_count": 22,
   "metadata": {},
   "outputs": [
    {
     "data": {
      "text/plain": [
       "[{'Randy Berry': 'Randy Berry',\n",
       "  'Randy Berry ': 'Randy Berry',\n",
       "  'randy Berry': 'Randy Berry'},\n",
       " {'Samantha Evans': 'Samantha Evans', 'Samanatha Evans': 'Samantha Evans'},\n",
       " {'Mark Hanley': 'Mark Hanley',\n",
       "  'mark Hanley': 'Mark Hanley',\n",
       "  'Mark hanley': 'Mark Hanley',\n",
       "  'Mark Hanley ???': 'Mark Hanley',\n",
       "  'mark hanley': 'Mark Hanley'},\n",
       " {'Thomas Bagan': 'Thomas Bagan', 'Tom Bagan': 'Thomas Bagan'},\n",
       " {'Lisa Heinz': 'Lisa Heinz', 'Lisa Heing': 'Lisa Heinz'},\n",
       " {'Lara Sims': 'Lara Sims', 'Lara sims': 'Lara Sims'}]"
      ]
     },
     "execution_count": 22,
     "metadata": {},
     "output_type": "execute_result"
    }
   ],
   "source": [
    "dictlist"
   ]
  },
  {
   "cell_type": "code",
   "execution_count": 23,
   "metadata": {},
   "outputs": [],
   "source": [
    "finaldict = {}\n",
    "for dict1 in dictlist:\n",
    "    finaldict.update(dict1)"
   ]
  },
  {
   "cell_type": "code",
   "execution_count": 24,
   "metadata": {},
   "outputs": [
    {
     "data": {
      "text/plain": [
       "{'Randy Berry': 'Randy Berry',\n",
       " 'Randy Berry ': 'Randy Berry',\n",
       " 'randy Berry': 'Randy Berry',\n",
       " 'Samantha Evans': 'Samantha Evans',\n",
       " 'Samanatha Evans': 'Samantha Evans',\n",
       " 'Mark Hanley': 'Mark Hanley',\n",
       " 'mark Hanley': 'Mark Hanley',\n",
       " 'Mark hanley': 'Mark Hanley',\n",
       " 'Mark Hanley ???': 'Mark Hanley',\n",
       " 'mark hanley': 'Mark Hanley',\n",
       " 'Thomas Bagan': 'Thomas Bagan',\n",
       " 'Tom Bagan': 'Thomas Bagan',\n",
       " 'Lisa Heinz': 'Lisa Heinz',\n",
       " 'Lisa Heing': 'Lisa Heinz',\n",
       " 'Lara Sims': 'Lara Sims',\n",
       " 'Lara sims': 'Lara Sims'}"
      ]
     },
     "execution_count": 24,
     "metadata": {},
     "output_type": "execute_result"
    }
   ],
   "source": [
    "finaldict"
   ]
  },
  {
   "cell_type": "code",
   "execution_count": 25,
   "metadata": {},
   "outputs": [],
   "source": [
    "#Create copy\n",
    "consolidate = data.copy()\n",
    "\n",
    "#Replace variant of different names with Original \n",
    "consolidate['Owner'].replace(to_replace=finaldict,inplace=True)"
   ]
  },
  {
   "cell_type": "code",
   "execution_count": 26,
   "metadata": {},
   "outputs": [
    {
     "data": {
      "text/html": [
       "<div>\n",
       "<style scoped>\n",
       "    .dataframe tbody tr th:only-of-type {\n",
       "        vertical-align: middle;\n",
       "    }\n",
       "\n",
       "    .dataframe tbody tr th {\n",
       "        vertical-align: top;\n",
       "    }\n",
       "\n",
       "    .dataframe thead th {\n",
       "        text-align: right;\n",
       "    }\n",
       "</style>\n",
       "<table border=\"1\" class=\"dataframe\">\n",
       "  <thead>\n",
       "    <tr style=\"text-align: right;\">\n",
       "      <th></th>\n",
       "      <th>Notes</th>\n",
       "      <th>Goods/Service / Change Order/Rental</th>\n",
       "      <th>Suppliers</th>\n",
       "      <th>Supplier #</th>\n",
       "      <th>Owner</th>\n",
       "      <th>Owners Representative</th>\n",
       "      <th>Start Date</th>\n",
       "      <th>Value</th>\n",
       "      <th>REQ</th>\n",
       "      <th>PO</th>\n",
       "    </tr>\n",
       "  </thead>\n",
       "  <tbody>\n",
       "    <tr>\n",
       "      <th>0</th>\n",
       "      <td>Done 3.30.20</td>\n",
       "      <td>Service</td>\n",
       "      <td>TJA Cvonsulting</td>\n",
       "      <td>101331</td>\n",
       "      <td>David Madsen</td>\n",
       "      <td>David Madsen</td>\n",
       "      <td>2020-03-26</td>\n",
       "      <td>71460.00</td>\n",
       "      <td>10004820</td>\n",
       "      <td>4500003899</td>\n",
       "    </tr>\n",
       "    <tr>\n",
       "      <th>1</th>\n",
       "      <td>Done 3.27.20</td>\n",
       "      <td>Goods</td>\n",
       "      <td>Smith Steel</td>\n",
       "      <td>300203</td>\n",
       "      <td>Larry Brown</td>\n",
       "      <td>Larry Brown</td>\n",
       "      <td>2020-03-27</td>\n",
       "      <td>5150.00</td>\n",
       "      <td>10004844</td>\n",
       "      <td>4500002906</td>\n",
       "    </tr>\n",
       "    <tr>\n",
       "      <th>2</th>\n",
       "      <td>Done 3.27.20</td>\n",
       "      <td>Goods</td>\n",
       "      <td>Amazon</td>\n",
       "      <td>100498</td>\n",
       "      <td>Lara Sims</td>\n",
       "      <td>Mark Wall</td>\n",
       "      <td>2020-03-27</td>\n",
       "      <td>12464.83</td>\n",
       "      <td>10004838</td>\n",
       "      <td>4500003895</td>\n",
       "    </tr>\n",
       "    <tr>\n",
       "      <th>3</th>\n",
       "      <td>Done 3.27.20</td>\n",
       "      <td>Goods</td>\n",
       "      <td>PDM Steel</td>\n",
       "      <td>100212</td>\n",
       "      <td>Terry Weiss</td>\n",
       "      <td>Michael Boomgaarden</td>\n",
       "      <td>2020-03-27</td>\n",
       "      <td>8998.27</td>\n",
       "      <td>10004841</td>\n",
       "      <td>4500003896</td>\n",
       "    </tr>\n",
       "    <tr>\n",
       "      <th>4</th>\n",
       "      <td>Done 3.27.20</td>\n",
       "      <td>Service</td>\n",
       "      <td>Cube Consulting</td>\n",
       "      <td>300229</td>\n",
       "      <td>Beverly O'Malley</td>\n",
       "      <td>Beverly O'Malley</td>\n",
       "      <td>2020-03-27</td>\n",
       "      <td>14350.00</td>\n",
       "      <td>10004840</td>\n",
       "      <td>4500003894</td>\n",
       "    </tr>\n",
       "    <tr>\n",
       "      <th>...</th>\n",
       "      <td>...</td>\n",
       "      <td>...</td>\n",
       "      <td>...</td>\n",
       "      <td>...</td>\n",
       "      <td>...</td>\n",
       "      <td>...</td>\n",
       "      <td>...</td>\n",
       "      <td>...</td>\n",
       "      <td>...</td>\n",
       "      <td>...</td>\n",
       "    </tr>\n",
       "    <tr>\n",
       "      <th>2536</th>\n",
       "      <td>Done 12.17.18</td>\n",
       "      <td>Goods</td>\n",
       "      <td>My Office Products . Com</td>\n",
       "      <td>100183</td>\n",
       "      <td>Jenna Joyner</td>\n",
       "      <td>Jenna Joyner</td>\n",
       "      <td>2018-01-19</td>\n",
       "      <td>1126.39</td>\n",
       "      <td>10002128</td>\n",
       "      <td>4500001546</td>\n",
       "    </tr>\n",
       "    <tr>\n",
       "      <th>2537</th>\n",
       "      <td>Done 12.17.18</td>\n",
       "      <td>Goods</td>\n",
       "      <td>Western Nevada</td>\n",
       "      <td>100301</td>\n",
       "      <td>Mark Hanley</td>\n",
       "      <td>Mark Hanley</td>\n",
       "      <td>2018-12-18</td>\n",
       "      <td>49.76</td>\n",
       "      <td>10002126</td>\n",
       "      <td>4500001544</td>\n",
       "    </tr>\n",
       "    <tr>\n",
       "      <th>2538</th>\n",
       "      <td>Done 12.17.18</td>\n",
       "      <td>Goods</td>\n",
       "      <td>Sticks and Stones</td>\n",
       "      <td>100546</td>\n",
       "      <td>Mark Hanley</td>\n",
       "      <td>Mark Hanley</td>\n",
       "      <td>2018-12-18</td>\n",
       "      <td>184.68</td>\n",
       "      <td>10002127</td>\n",
       "      <td>4500001545</td>\n",
       "    </tr>\n",
       "    <tr>\n",
       "      <th>2539</th>\n",
       "      <td>Done 12.17.18</td>\n",
       "      <td>Goods</td>\n",
       "      <td>Kimball Midwest</td>\n",
       "      <td>100648</td>\n",
       "      <td>Terry Weiss</td>\n",
       "      <td>Terry Weiss</td>\n",
       "      <td>2018-12-20</td>\n",
       "      <td>576.00</td>\n",
       "      <td>10002122</td>\n",
       "      <td>4500001539</td>\n",
       "    </tr>\n",
       "    <tr>\n",
       "      <th>2540</th>\n",
       "      <td>Done 12.13.18</td>\n",
       "      <td>Goods</td>\n",
       "      <td>Western Nevada</td>\n",
       "      <td>100301</td>\n",
       "      <td>Terry Weiss</td>\n",
       "      <td>Terry Weiss</td>\n",
       "      <td>2019-01-20</td>\n",
       "      <td>47728.53</td>\n",
       "      <td>10002123</td>\n",
       "      <td>4500001543</td>\n",
       "    </tr>\n",
       "  </tbody>\n",
       "</table>\n",
       "<p>2541 rows × 10 columns</p>\n",
       "</div>"
      ],
      "text/plain": [
       "              Notes Goods/Service / Change Order/Rental  \\\n",
       "0      Done 3.30.20                             Service   \n",
       "1      Done 3.27.20                               Goods   \n",
       "2      Done 3.27.20                               Goods   \n",
       "3      Done 3.27.20                               Goods   \n",
       "4      Done 3.27.20                             Service   \n",
       "...             ...                                 ...   \n",
       "2536  Done 12.17.18                               Goods   \n",
       "2537  Done 12.17.18                               Goods   \n",
       "2538  Done 12.17.18                               Goods   \n",
       "2539  Done 12.17.18                               Goods   \n",
       "2540  Done 12.13.18                               Goods   \n",
       "\n",
       "                     Suppliers Supplier #             Owner  \\\n",
       "0              TJA Cvonsulting     101331      David Madsen   \n",
       "1                  Smith Steel     300203       Larry Brown   \n",
       "2                       Amazon     100498         Lara Sims   \n",
       "3                    PDM Steel     100212       Terry Weiss   \n",
       "4              Cube Consulting     300229  Beverly O'Malley   \n",
       "...                        ...        ...               ...   \n",
       "2536  My Office Products . Com     100183      Jenna Joyner   \n",
       "2537            Western Nevada     100301       Mark Hanley   \n",
       "2538         Sticks and Stones     100546       Mark Hanley   \n",
       "2539           Kimball Midwest     100648       Terry Weiss   \n",
       "2540            Western Nevada     100301       Terry Weiss   \n",
       "\n",
       "     Owners Representative Start Date     Value       REQ          PO  \n",
       "0             David Madsen 2020-03-26  71460.00  10004820  4500003899  \n",
       "1              Larry Brown 2020-03-27   5150.00  10004844  4500002906  \n",
       "2                Mark Wall 2020-03-27  12464.83  10004838  4500003895  \n",
       "3      Michael Boomgaarden 2020-03-27   8998.27  10004841  4500003896  \n",
       "4         Beverly O'Malley 2020-03-27  14350.00  10004840  4500003894  \n",
       "...                    ...        ...       ...       ...         ...  \n",
       "2536          Jenna Joyner 2018-01-19   1126.39  10002128  4500001546  \n",
       "2537           Mark Hanley 2018-12-18     49.76  10002126  4500001544  \n",
       "2538           Mark Hanley 2018-12-18    184.68  10002127  4500001545  \n",
       "2539           Terry Weiss 2018-12-20    576.00  10002122  4500001539  \n",
       "2540           Terry Weiss 2019-01-20  47728.53  10002123  4500001543  \n",
       "\n",
       "[2541 rows x 10 columns]"
      ]
     },
     "execution_count": 26,
     "metadata": {},
     "output_type": "execute_result"
    }
   ],
   "source": [
    "consolidate.reset_index(drop=True)"
   ]
  },
  {
   "cell_type": "code",
   "execution_count": 27,
   "metadata": {},
   "outputs": [],
   "source": [
    "#Pivot table to show by month per person\n",
    "\n",
    "#Grouper resamples by month for every 'Owner' for that month\n",
    "#Aggregate is straightforward\n",
    "pivot = consolidate.groupby([pd.Grouper(key='Start Date',freq='M'),'Owner']).agg({\"PO\":'count',\" Value\":np.sum})"
   ]
  },
  {
   "cell_type": "code",
   "execution_count": 28,
   "metadata": {},
   "outputs": [],
   "source": [
    "finalP = pivot.loc['2020-01-31':]"
   ]
  },
  {
   "cell_type": "code",
   "execution_count": 29,
   "metadata": {},
   "outputs": [
    {
     "data": {
      "text/html": [
       "<div>\n",
       "<style scoped>\n",
       "    .dataframe tbody tr th:only-of-type {\n",
       "        vertical-align: middle;\n",
       "    }\n",
       "\n",
       "    .dataframe tbody tr th {\n",
       "        vertical-align: top;\n",
       "    }\n",
       "\n",
       "    .dataframe thead th {\n",
       "        text-align: right;\n",
       "    }\n",
       "</style>\n",
       "<table border=\"1\" class=\"dataframe\">\n",
       "  <thead>\n",
       "    <tr style=\"text-align: right;\">\n",
       "      <th></th>\n",
       "      <th></th>\n",
       "      <th>PO</th>\n",
       "      <th>Value</th>\n",
       "    </tr>\n",
       "    <tr>\n",
       "      <th>Start Date</th>\n",
       "      <th>Owner</th>\n",
       "      <th></th>\n",
       "      <th></th>\n",
       "    </tr>\n",
       "  </thead>\n",
       "  <tbody>\n",
       "    <tr>\n",
       "      <th rowspan=\"5\" valign=\"top\">2020-01-31</th>\n",
       "      <th>August Greth</th>\n",
       "      <td>12</td>\n",
       "      <td>166888.07</td>\n",
       "    </tr>\n",
       "    <tr>\n",
       "      <th>Ben Morin</th>\n",
       "      <td>1</td>\n",
       "      <td>53728.86</td>\n",
       "    </tr>\n",
       "    <tr>\n",
       "      <th>Beverly O'Malley</th>\n",
       "      <td>1</td>\n",
       "      <td>9000.00</td>\n",
       "    </tr>\n",
       "    <tr>\n",
       "      <th>Clint Schofield</th>\n",
       "      <td>5</td>\n",
       "      <td>73843.49</td>\n",
       "    </tr>\n",
       "    <tr>\n",
       "      <th>David Madsen</th>\n",
       "      <td>44</td>\n",
       "      <td>730098.97</td>\n",
       "    </tr>\n",
       "    <tr>\n",
       "      <th>...</th>\n",
       "      <th>...</th>\n",
       "      <td>...</td>\n",
       "      <td>...</td>\n",
       "    </tr>\n",
       "    <tr>\n",
       "      <th rowspan=\"5\" valign=\"top\">2020-03-31</th>\n",
       "      <th>Shane Eisenbarth</th>\n",
       "      <td>1</td>\n",
       "      <td>10408.67</td>\n",
       "    </tr>\n",
       "    <tr>\n",
       "      <th>Terry Weiss</th>\n",
       "      <td>96</td>\n",
       "      <td>1166050.99</td>\n",
       "    </tr>\n",
       "    <tr>\n",
       "      <th>Tim Dake</th>\n",
       "      <td>1</td>\n",
       "      <td>287.75</td>\n",
       "    </tr>\n",
       "    <tr>\n",
       "      <th>Tim Dyhr</th>\n",
       "      <td>1</td>\n",
       "      <td>2625.00</td>\n",
       "    </tr>\n",
       "    <tr>\n",
       "      <th>Tom Sullivan</th>\n",
       "      <td>24</td>\n",
       "      <td>3626823.61</td>\n",
       "    </tr>\n",
       "  </tbody>\n",
       "</table>\n",
       "<p>85 rows × 2 columns</p>\n",
       "</div>"
      ],
      "text/plain": [
       "                             PO       Value\n",
       "Start Date Owner                           \n",
       "2020-01-31 August Greth      12   166888.07\n",
       "           Ben Morin          1    53728.86\n",
       "           Beverly O'Malley   1     9000.00\n",
       "           Clint Schofield    5    73843.49\n",
       "           David Madsen      44   730098.97\n",
       "...                          ..         ...\n",
       "2020-03-31 Shane Eisenbarth   1    10408.67\n",
       "           Terry Weiss       96  1166050.99\n",
       "           Tim Dake           1      287.75\n",
       "           Tim Dyhr           1     2625.00\n",
       "           Tom Sullivan      24  3626823.61\n",
       "\n",
       "[85 rows x 2 columns]"
      ]
     },
     "execution_count": 29,
     "metadata": {},
     "output_type": "execute_result"
    }
   ],
   "source": [
    "finalP"
   ]
  },
  {
   "cell_type": "code",
   "execution_count": 30,
   "metadata": {},
   "outputs": [],
   "source": [
    "#Different ways to look at the data\n",
    "consolidategroup = consolidate.resample('M',on='Start Date').agg({\"PO\":'count',\" Value\":np.sum})"
   ]
  },
  {
   "cell_type": "code",
   "execution_count": 31,
   "metadata": {},
   "outputs": [],
   "source": [
    "finalC = consolidategroup.loc['2020-01-31':]"
   ]
  },
  {
   "cell_type": "code",
   "execution_count": 32,
   "metadata": {},
   "outputs": [
    {
     "data": {
      "text/html": [
       "<div>\n",
       "<style scoped>\n",
       "    .dataframe tbody tr th:only-of-type {\n",
       "        vertical-align: middle;\n",
       "    }\n",
       "\n",
       "    .dataframe tbody tr th {\n",
       "        vertical-align: top;\n",
       "    }\n",
       "\n",
       "    .dataframe thead th {\n",
       "        text-align: right;\n",
       "    }\n",
       "</style>\n",
       "<table border=\"1\" class=\"dataframe\">\n",
       "  <thead>\n",
       "    <tr style=\"text-align: right;\">\n",
       "      <th></th>\n",
       "      <th>PO</th>\n",
       "      <th>Value</th>\n",
       "    </tr>\n",
       "    <tr>\n",
       "      <th>Start Date</th>\n",
       "      <th></th>\n",
       "      <th></th>\n",
       "    </tr>\n",
       "  </thead>\n",
       "  <tbody>\n",
       "    <tr>\n",
       "      <th>2020-01-31</th>\n",
       "      <td>248</td>\n",
       "      <td>7212857.52</td>\n",
       "    </tr>\n",
       "    <tr>\n",
       "      <th>2020-02-29</th>\n",
       "      <td>201</td>\n",
       "      <td>4754353.12</td>\n",
       "    </tr>\n",
       "    <tr>\n",
       "      <th>2020-03-31</th>\n",
       "      <td>317</td>\n",
       "      <td>8312741.05</td>\n",
       "    </tr>\n",
       "  </tbody>\n",
       "</table>\n",
       "</div>"
      ],
      "text/plain": [
       "             PO       Value\n",
       "Start Date                 \n",
       "2020-01-31  248  7212857.52\n",
       "2020-02-29  201  4754353.12\n",
       "2020-03-31  317  8312741.05"
      ]
     },
     "execution_count": 32,
     "metadata": {},
     "output_type": "execute_result"
    }
   ],
   "source": [
    "finalC"
   ]
  },
  {
   "cell_type": "code",
   "execution_count": 33,
   "metadata": {},
   "outputs": [],
   "source": [
    "#Used to generate initial Excel Sheet\n",
    "\n",
    "path = r\"C:\\Users\\gcarlstedt\\Documents\\Work - Nevada Copper\\Tom Sullivan\\PO Tracker\\Supply Chain BPR Graphs\\BPR Data.xlsx\"\n",
    "\n",
    "#Create a Pandas Excel writer using XlsxWriter as the engine\n",
    "with pd.ExcelWriter(path,engine = 'xlsxwriter') as writer:\n",
    "    finalC.to_excel(writer, sheet_name = 'Total') #Convert df to an XlsxWriter Excel Object\n",
    "    finalP.to_excel(writer, sheet_name = 'Total by Person by Month') #Convert df to an XlsxWriter Excel Object\n",
    "\n",
    "writer.save()"
   ]
  },
  {
   "cell_type": "code",
   "execution_count": 35,
   "metadata": {},
   "outputs": [],
   "source": [
    "wb = load_workbook(path)\n",
    "ws = wb['Total']\n",
    "\n",
    "c1 = LineChart()\n",
    "c1.title = \"Cost of PO's by Month\"\n",
    "\n",
    "d1 = Reference(ws,min_col=3,min_row=2,max_col=3,max_row=(len(finalC)+1))\n",
    "c1.add_data(d1)\n",
    "\n",
    "c2 = LineChart()\n",
    "c2.title = \"Number of PO's by Month\"\n",
    "\n",
    "d2 = Reference(ws,min_col=2,min_row=2,max_col=2,max_row=(len(finalC)+1))\n",
    "c2.add_data(d2)\n",
    "\n",
    "ws.add_chart(c1,'D2')\n",
    "ws.add_chart(c2,'M2')\n",
    "\n",
    "\n",
    "wb.save(path)"
   ]
  }
 ],
 "metadata": {
  "kernelspec": {
   "display_name": "Python 3",
   "language": "python",
   "name": "python3"
  },
  "language_info": {
   "codemirror_mode": {
    "name": "ipython",
    "version": 3
   },
   "file_extension": ".py",
   "mimetype": "text/x-python",
   "name": "python",
   "nbconvert_exporter": "python",
   "pygments_lexer": "ipython3",
   "version": "3.7.7"
  }
 },
 "nbformat": 4,
 "nbformat_minor": 2
}
